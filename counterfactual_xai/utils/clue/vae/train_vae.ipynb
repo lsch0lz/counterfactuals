{
 "cells": [
  {
   "cell_type": "code",
   "execution_count": null,
   "id": "initial_id",
   "metadata": {
    "collapsed": true
   },
   "outputs": [],
   "source": [
    "from counterfactual_xai.utils.clue.vae.train import train_VAE\n",
    "from counterfactual_xai.utils.clue.vae.gaussian_vae import GaussianVAE\n",
    "from counterfactual_xai.utils.datafeed import DataFeed\n",
    "from counterfactual_xai.utils.lsat_dataloader import LsatDataloader\n",
    "import torch\n",
    "\n",
    "INPUT_DIMS = [1, 1, 8, 2]\n",
    "CSV_PATH = \"/Users/lukasscholz/repositorys/counterfactuals/data\"\n",
    "\n",
    "width = 300\n",
    "depth = 3\n",
    "latent_dim = 4\n",
    "\n",
    "x_train, x_test, x_means, x_stds, y_train, y_test, y_means, y_stds, my_data_keys, input_dim_vec = LsatDataloader(\n",
    "    INPUT_DIMS, CSV_PATH).get_lsat_dataset()\n",
    "\n",
    "print('LSAT', x_train.shape, x_test.shape)\n",
    "print(input_dim_vec)\n",
    "\n",
    "for latent_dim in [2, 3, 4, 5, 6, 8, 12, 16]:\n",
    "    trainset = DataFeed(x_train, x_train, transform=None)\n",
    "    valset = DataFeed(x_test, x_test, transform=None)\n",
    "\n",
    "    save_dir = (\"/Users/lukasscholz/repositorys/counterfactuals/data/saves/fc_preact_VAE_d2_lsat_models/\")\n",
    "\n",
    "    batch_size = 128\n",
    "    nb_epochs = 2500\n",
    "    lr = 1e-4\n",
    "    early_stop = 200\n",
    "\n",
    "    cuda = torch.cuda.is_available()\n",
    "\n",
    "    net = GaussianVAE(input_dim_vec, width, depth, latent_dim, pred_sig=False, lr=lr, cuda=cuda, flatten=False)\n",
    "\n",
    "    vlb_train, vlb_dev = train_VAE(net, save_dir, batch_size, nb_epochs, trainset, valset,\n",
    "                                   cuda=cuda, flat_ims=False, train_plot=False, early_stop=early_stop)\n"
   ]
  },
  {
   "cell_type": "code",
   "outputs": [],
   "source": [],
   "metadata": {
    "collapsed": false
   },
   "id": "857fd31d94a99792",
   "execution_count": null
  },
  {
   "cell_type": "code",
   "outputs": [],
   "source": [],
   "metadata": {
    "collapsed": false
   },
   "id": "69a81e2d1b2e5b67",
   "execution_count": null
  }
 ],
 "metadata": {
  "kernelspec": {
   "display_name": "Python 3",
   "language": "python",
   "name": "python3"
  },
  "language_info": {
   "codemirror_mode": {
    "name": "ipython",
    "version": 2
   },
   "file_extension": ".py",
   "mimetype": "text/x-python",
   "name": "python",
   "nbconvert_exporter": "python",
   "pygments_lexer": "ipython2",
   "version": "2.7.6"
  }
 },
 "nbformat": 4,
 "nbformat_minor": 5
}
