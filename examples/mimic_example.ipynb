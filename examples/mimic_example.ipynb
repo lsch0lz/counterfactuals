{
 "cells": [
  {
   "cell_type": "code",
   "execution_count": 10,
   "id": "initial_id",
   "metadata": {
    "collapsed": true,
    "ExecuteTime": {
     "end_time": "2024-06-16T07:36:51.948425Z",
     "start_time": "2024-06-16T07:36:51.944757Z"
    }
   },
   "outputs": [],
   "source": [
    "import pandas as pd"
   ]
  },
  {
   "cell_type": "code",
   "outputs": [],
   "source": [
    "train_df = pd.read_csv(\"/Users/lukasscholz/repositorys/studienprojekt/counterfactuals/data/train_mort_icu_cleaned.csv\")\n",
    "test_df = pd.read_csv(\"/Users/lukasscholz/repositorys/studienprojekt/counterfactuals/data/test_mort_icu_cleaned.csv\")"
   ],
   "metadata": {
    "collapsed": false,
    "ExecuteTime": {
     "end_time": "2024-06-16T07:36:52.393737Z",
     "start_time": "2024-06-16T07:36:52.276382Z"
    }
   },
   "id": "bd92712a513582de",
   "execution_count": 11
  },
  {
   "cell_type": "code",
   "outputs": [],
   "source": [
    "test_df = test_df.drop(\"mort_icu\", axis=1)"
   ],
   "metadata": {
    "collapsed": false,
    "ExecuteTime": {
     "end_time": "2024-06-16T07:36:53.771212Z",
     "start_time": "2024-06-16T07:36:53.765751Z"
    }
   },
   "id": "4a6fc48a00ff04cb",
   "execution_count": 12
  },
  {
   "cell_type": "code",
   "outputs": [],
   "source": [
    "train_df.to_csv(\"/Users/lukasscholz/repositorys/studienprojekt/counterfactuals/data/train_length_of_stay_prediction.csv\", index=False)\n",
    "test_df.to_csv(\"/Users/lukasscholz/repositorys/studienprojekt/counterfactuals/data/test_length_of_stay_prediction.csv\", index=False)"
   ],
   "metadata": {
    "collapsed": false,
    "ExecuteTime": {
     "end_time": "2024-06-16T07:36:55.587708Z",
     "start_time": "2024-06-16T07:36:55.003757Z"
    }
   },
   "id": "11ad8b94d31b3d16",
   "execution_count": 13
  },
  {
   "cell_type": "code",
   "outputs": [],
   "source": [],
   "metadata": {
    "collapsed": false
   },
   "id": "4d43115251c8b079"
  }
 ],
 "metadata": {
  "kernelspec": {
   "display_name": "Python 3",
   "language": "python",
   "name": "python3"
  },
  "language_info": {
   "codemirror_mode": {
    "name": "ipython",
    "version": 2
   },
   "file_extension": ".py",
   "mimetype": "text/x-python",
   "name": "python",
   "nbconvert_exporter": "python",
   "pygments_lexer": "ipython2",
   "version": "2.7.6"
  }
 },
 "nbformat": 4,
 "nbformat_minor": 5
}
