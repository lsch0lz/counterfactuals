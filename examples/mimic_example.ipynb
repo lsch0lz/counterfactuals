{
 "cells": [
  {
   "cell_type": "code",
   "execution_count": 1,
   "id": "initial_id",
   "metadata": {
    "collapsed": true,
    "ExecuteTime": {
     "end_time": "2024-05-24T09:58:41.053660Z",
     "start_time": "2024-05-24T09:58:20.881937Z"
    }
   },
   "outputs": [],
   "source": [
    "import pandas as pd"
   ]
  },
  {
   "cell_type": "code",
   "outputs": [],
   "source": [
    "INTERVENTION = 'vaso'\n",
    "RANDOM = 0\n",
    "MAX_LEN = 240\n",
    "SLICE_SIZE = 6\n",
    "GAP_TIME = 6\n",
    "PREDICTION_WINDOW = 4\n",
    "OUTCOME_TYPE = 'all'\n",
    "NUM_CLASSES = 4"
   ],
   "metadata": {
    "collapsed": false,
    "ExecuteTime": {
     "end_time": "2024-05-24T09:58:41.058638Z",
     "start_time": "2024-05-24T09:58:41.055811Z"
    }
   },
   "id": "5c8b845f30388ee9",
   "execution_count": 2
  },
  {
   "cell_type": "code",
   "outputs": [],
   "source": [
    "CHUNK_KEY = {'ONSET': 0, 'CONTROL': 1, 'ON_INTERVENTION': 2, 'WEAN': 3}"
   ],
   "metadata": {
    "collapsed": false,
    "ExecuteTime": {
     "end_time": "2024-05-24T09:58:41.062488Z",
     "start_time": "2024-05-24T09:58:41.059837Z"
    }
   },
   "id": "af562a3b47a0fb59",
   "execution_count": 3
  },
  {
   "cell_type": "markdown",
   "source": [
    "# Load Data"
   ],
   "metadata": {
    "collapsed": false
   },
   "id": "4306cf2512612046"
  },
  {
   "cell_type": "code",
   "outputs": [],
   "source": [
    "DATAFILE = '/Users/lukasscholz/repositorys/studienprojekt/counterfactuals/data/mimic/all_hourly_data.h5'\n"
   ],
   "metadata": {
    "collapsed": false,
    "ExecuteTime": {
     "end_time": "2024-05-24T09:58:41.967139Z",
     "start_time": "2024-05-24T09:58:41.963864Z"
    }
   },
   "id": "ef58333392a7f28d",
   "execution_count": 4
  },
  {
   "cell_type": "code",
   "outputs": [],
   "source": [
    "X = pd.read_hdf(DATAFILE,'vitals_labs')\n",
    "Y = pd.read_hdf(DATAFILE,'interventions')\n",
    "static = pd.read_hdf(DATAFILE,'patients')"
   ],
   "metadata": {
    "collapsed": false,
    "is_executing": true,
    "ExecuteTime": {
     "start_time": "2024-05-24T09:58:46.520873Z"
    }
   },
   "id": "f99ea6b1f220e7a3"
  },
  {
   "cell_type": "code",
   "outputs": [],
   "source": [],
   "metadata": {
    "collapsed": false
   },
   "id": "f88f9e9edd65ddd7"
  }
 ],
 "metadata": {
  "kernelspec": {
   "display_name": "Python 3",
   "language": "python",
   "name": "python3"
  },
  "language_info": {
   "codemirror_mode": {
    "name": "ipython",
    "version": 2
   },
   "file_extension": ".py",
   "mimetype": "text/x-python",
   "name": "python",
   "nbconvert_exporter": "python",
   "pygments_lexer": "ipython2",
   "version": "2.7.6"
  }
 },
 "nbformat": 4,
 "nbformat_minor": 5
}
