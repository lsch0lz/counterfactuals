{
 "cells": [
  {
   "cell_type": "markdown",
   "metadata": {},
   "source": [
    "# COMPAS CLUE test + feature extraction\n"
   ]
  },
  {
   "cell_type": "code",
   "execution_count": 1,
   "metadata": {
    "ExecuteTime": {
     "end_time": "2024-06-10T12:58:51.282303Z",
     "start_time": "2024-06-10T12:58:50.858442Z"
    }
   },
   "outputs": [],
   "source": [
    "from __future__ import division\n",
    "import numpy as np\n",
    "import matplotlib.pyplot as plt"
   ]
  },
  {
   "cell_type": "markdown",
   "metadata": {},
   "source": [
    "## choose dset"
   ]
  },
  {
   "cell_type": "code",
   "outputs": [],
   "source": [
    "CSV_PATH = \"./../data/\"\n",
    "save_dir = \"/Users/lukasscholz/repositorys/studienprojekt/counterfactuals/data/mimic/regression/mimic_mortability_prediction/bnn/state_dicts.pkl\"\n",
    "\n",
    "cuda = False\n",
    "device: str = \"cuda\" if cuda else \"cpu\"\n",
    "learning_rate = 1e-2"
   ],
   "metadata": {
    "collapsed": false,
    "ExecuteTime": {
     "end_time": "2024-06-10T13:28:57.972566Z",
     "start_time": "2024-06-10T13:28:57.962823Z"
    }
   },
   "execution_count": 1
  },
  {
   "cell_type": "code",
   "outputs": [],
   "source": [
    "INPUT_DIMS = [1, 1, 1, 1, 1, 1, 1, 1, 1, 1, 1, 1, 1, 1, 1, 1, 2, 41]"
   ],
   "metadata": {
    "collapsed": false,
    "ExecuteTime": {
     "end_time": "2024-06-10T13:28:58.570090Z",
     "start_time": "2024-06-10T13:28:58.567266Z"
    }
   },
   "execution_count": 2
  },
  {
   "cell_type": "code",
   "outputs": [
    {
     "name": "stdout",
     "output_type": "stream",
     "text": [
      "MLP(\n",
      "  (block): Sequential(\n",
      "    (0): Linear(in_features=59, out_features=200, bias=True)\n",
      "    (1): ReLU()\n",
      "    (2): Linear(in_features=200, out_features=200, bias=True)\n",
      "    (3): ReLU()\n",
      "    (4): Linear(in_features=200, out_features=1, bias=True)\n",
      "  )\n",
      ")\n"
     ]
    }
   ],
   "source": [
    "from counterfactual_xai.utils.mimic_dataloader import MimiDataLoader\n",
    "from counterfactual_xai.utils.datafeed import DataFeed\n",
    "from counterfactual_xai.utils.clue.bnn.mlp import MLP\n",
    "\n",
    "# INPUT_DIMS = [1, 1, 8, 2]\n",
    "# INPUT_DIMS = [5, 5, 41, 10]\n",
    "# INPUT_DIMs bestehen aus 18 einzelnen Kategorien (hadm_id, age, max_hours, etc.) 2 one-hot Kategorien (gender_F, gender_M) und 41 one-hot Kategorien (ethnicity)\n",
    "# INPUT_DIMS = [1, 1, 1, 1, 1, 1, 1, 1, 1, 1, 1, 1, 1, 1, 1, 1, 1, 1, 2, 41]\n",
    "\n",
    "x_train, x_test, x_means, x_stds, y_train, y_test, y_means, y_stds, DATA_KEYS, input_dims = MimiDataLoader(INPUT_DIMS,\n",
    "                                                                                                           CSV_PATH).get_mimic_dataset()\n",
    "\n",
    "trainset = DataFeed(x_train, y_train, transform=None)\n",
    "valset = DataFeed(x_test, y_test, transform=None)\n",
    "\n",
    "input_dim = x_train.shape[1]\n",
    "width = 200\n",
    "depth = 2\n",
    "output_dim = y_train.shape[1]\n",
    "\n",
    "mlp = MLP(input_dim, width, depth, output_dim, flatten_image=False)\n",
    "print(mlp.eval())"
   ],
   "metadata": {
    "collapsed": false,
    "ExecuteTime": {
     "end_time": "2024-06-10T13:29:05.967966Z",
     "start_time": "2024-06-10T13:28:59.056535Z"
    }
   },
   "execution_count": 3
  },
  {
   "cell_type": "markdown",
   "metadata": {},
   "source": [
    "### BNN LOADING\n"
   ]
  },
  {
   "cell_type": "code",
   "outputs": [
    {
     "name": "stdout",
     "output_type": "stream",
     "text": [
      "    Total params: 0.05M\n"
     ]
    }
   ],
   "source": [
    "from counterfactual_xai.utils.clue.bnn.gaussian_bnn import BNNCategorical\n",
    "\n",
    "N_train = x_train.shape[0]\n",
    "\n",
    "bnn_cat = BNNCategorical(mlp, N_train, lr=learning_rate, cuda=cuda)\n",
    "bnn_cat.load_weights(save_dir)"
   ],
   "metadata": {
    "collapsed": false,
    "ExecuteTime": {
     "end_time": "2024-06-10T13:29:11.364354Z",
     "start_time": "2024-06-10T13:29:08.843871Z"
    }
   },
   "execution_count": 4
  },
  {
   "cell_type": "markdown",
   "metadata": {},
   "source": [
    "### VAE"
   ]
  },
  {
   "cell_type": "code",
   "outputs": [
    {
     "name": "stderr",
     "output_type": "stream",
     "text": [
      "INFO:root:Loading: /Users/lukasscholz/repositorys/studienprojekt/counterfactuals/data/mimic/regression/mimic_mortability_prediction/vae/saves/fc_preact_VAE_d2_lsat_models_4/_models/theta_best.dat\n"
     ]
    },
    {
     "name": "stdout",
     "output_type": "stream",
     "text": [
      "    Total params: 0.40M\n",
      "  restoring epoch: 707, lr: 0.000100\n"
     ]
    },
    {
     "data": {
      "text/plain": "707"
     },
     "execution_count": 7,
     "metadata": {},
     "output_type": "execute_result"
    }
   ],
   "source": [
    "from counterfactual_xai.utils.clue.vae.gaussian_vae import GaussianVAE\n",
    "\n",
    "width = 300\n",
    "depth = 3\n",
    "latent_dim = 4\n",
    "\n",
    "lr = 1e-4\n",
    "VAE = GaussianVAE(INPUT_DIMS, width, depth, latent_dim, pred_sig=False,\n",
    "                  lr=lr, cuda=cuda, flatten=False)\n",
    "\n",
    "VAE.load(\n",
    "    filename=\"/Users/lukasscholz/repositorys/studienprojekt/counterfactuals/data/mimic/regression/mimic_mortability_prediction/vae/saves/fc_preact_VAE_d2_lsat_models_4/_models/theta_best.dat\",\n",
    "    device=device)\n"
   ],
   "metadata": {
    "collapsed": false,
    "ExecuteTime": {
     "end_time": "2024-06-10T13:30:31.309169Z",
     "start_time": "2024-06-10T13:30:31.219149Z"
    }
   },
   "execution_count": 7
  },
  {
   "cell_type": "markdown",
   "metadata": {},
   "source": [
    "### map to latent space + get uncertainties"
   ]
  },
  {
   "cell_type": "code",
   "outputs": [
    {
     "name": "stderr",
     "output_type": "stream",
     "text": [
      "DEBUG:matplotlib:matplotlib data path: /Users/lukasscholz/opt/anaconda3/envs/counterfactuals/lib/python3.10/site-packages/matplotlib/mpl-data\n",
      "DEBUG:matplotlib:CONFIGDIR=/Users/lukasscholz/.matplotlib\n",
      "DEBUG:matplotlib:interactive is False\n",
      "DEBUG:matplotlib:platform is darwin\n",
      "DEBUG:matplotlib:CACHEDIR=/Users/lukasscholz/.matplotlib\n",
      "DEBUG:matplotlib.font_manager:Using fontManager instance from /Users/lukasscholz/.matplotlib/fontlist-v330.json\n"
     ]
    },
    {
     "ename": "RuntimeError",
     "evalue": "Error(s) in loading state_dict for MLP:\n\tsize mismatch for block.4.weight: copying a param with shape torch.Size([2, 200]) from checkpoint, the shape in current model is torch.Size([1, 200]).\n\tsize mismatch for block.4.bias: copying a param with shape torch.Size([2]) from checkpoint, the shape in current model is torch.Size([1]).",
     "output_type": "error",
     "traceback": [
      "\u001B[0;31m---------------------------------------------------------------------------\u001B[0m",
      "\u001B[0;31mRuntimeError\u001B[0m                              Traceback (most recent call last)",
      "Cell \u001B[0;32mIn[8], line 4\u001B[0m\n\u001B[1;32m      1\u001B[0m \u001B[38;5;28;01mfrom\u001B[39;00m \u001B[38;5;21;01mcounterfactual_xai\u001B[39;00m\u001B[38;5;21;01m.\u001B[39;00m\u001B[38;5;21;01mmethods\u001B[39;00m\u001B[38;5;21;01m.\u001B[39;00m\u001B[38;5;21;01minterpretation\u001B[39;00m \u001B[38;5;28;01mimport\u001B[39;00m latent_project_gauss, latent_project_cat\n\u001B[1;32m      3\u001B[0m tr_aleatoric_vec, tr_epistemic_vec, z_train, x_train, y_train \u001B[38;5;241m=\u001B[39m \\\n\u001B[0;32m----> 4\u001B[0m     \u001B[43mlatent_project_cat\u001B[49m\u001B[43m(\u001B[49m\u001B[43mbnn_cat\u001B[49m\u001B[43m,\u001B[49m\u001B[43m \u001B[49m\u001B[43mVAE\u001B[49m\u001B[43m,\u001B[49m\u001B[43m \u001B[49m\u001B[43mdset\u001B[49m\u001B[38;5;241;43m=\u001B[39;49m\u001B[43mtrainset\u001B[49m\u001B[43m,\u001B[49m\u001B[43m \u001B[49m\u001B[43mbatch_size\u001B[49m\u001B[38;5;241;43m=\u001B[39;49m\u001B[38;5;241;43m2048\u001B[39;49m\u001B[43m,\u001B[49m\u001B[43m \u001B[49m\u001B[43mcuda\u001B[49m\u001B[38;5;241;43m=\u001B[39;49m\u001B[43mcuda\u001B[49m\u001B[43m)\u001B[49m\n\u001B[1;32m      5\u001B[0m tr_uncertainty_vec \u001B[38;5;241m=\u001B[39m tr_aleatoric_vec \u001B[38;5;241m+\u001B[39m tr_epistemic_vec\n\u001B[1;32m      7\u001B[0m te_aleatoric_vec, te_epistemic_vec, z_test, x_test, y_test \u001B[38;5;241m=\u001B[39m \\\n\u001B[1;32m      8\u001B[0m     latent_project_cat(bnn_cat, VAE, dset\u001B[38;5;241m=\u001B[39mvalset, batch_size\u001B[38;5;241m=\u001B[39m\u001B[38;5;241m2048\u001B[39m, cuda\u001B[38;5;241m=\u001B[39mcuda)\n",
      "File \u001B[0;32m~/repositorys/studienprojekt/counterfactuals/counterfactual_xai/methods/interpretation.py:69\u001B[0m, in \u001B[0;36mlatent_project_cat\u001B[0;34m(BNN, VAE, dset, batch_size, cuda, prob_BNN)\u001B[0m\n\u001B[1;32m     67\u001B[0m \u001B[38;5;66;03m# print(x.shape)\u001B[39;00m\n\u001B[1;32m     68\u001B[0m \u001B[38;5;28;01mif\u001B[39;00m prob_BNN:\n\u001B[0;32m---> 69\u001B[0m     probs \u001B[38;5;241m=\u001B[39m \u001B[43mBNN\u001B[49m\u001B[38;5;241;43m.\u001B[39;49m\u001B[43msample_predict\u001B[49m\u001B[43m(\u001B[49m\u001B[43mx\u001B[49m\u001B[43m,\u001B[49m\u001B[43m \u001B[49m\u001B[38;5;241;43m0\u001B[39;49m\u001B[43m,\u001B[49m\u001B[43m \u001B[49m\u001B[38;5;28;43;01mFalse\u001B[39;49;00m\u001B[43m)\u001B[49m\n\u001B[1;32m     70\u001B[0m     total_entropy, aleatoric_entropy, epistemic_entropy \u001B[38;5;241m=\u001B[39m decompose_entropy_cat(probs)\n\u001B[1;32m     71\u001B[0m \u001B[38;5;28;01melse\u001B[39;00m:\n",
      "File \u001B[0;32m~/repositorys/studienprojekt/counterfactuals/counterfactual_xai/utils/clue/bnn/gaussian_bnn.py:286\u001B[0m, in \u001B[0;36mBNNCategorical.sample_predict\u001B[0;34m(self, x, Nsamples, grad)\u001B[0m\n\u001B[1;32m    284\u001B[0m     \u001B[38;5;28;01mif\u001B[39;00m idx \u001B[38;5;241m==\u001B[39m Nsamples:\n\u001B[1;32m    285\u001B[0m         \u001B[38;5;28;01mbreak\u001B[39;00m\n\u001B[0;32m--> 286\u001B[0m     \u001B[38;5;28;43mself\u001B[39;49m\u001B[38;5;241;43m.\u001B[39;49m\u001B[43mmodel\u001B[49m\u001B[38;5;241;43m.\u001B[39;49m\u001B[43mload_state_dict\u001B[49m\u001B[43m(\u001B[49m\u001B[43mweight_dict\u001B[49m\u001B[43m)\u001B[49m\n\u001B[1;32m    287\u001B[0m     out[idx] \u001B[38;5;241m=\u001B[39m \u001B[38;5;28mself\u001B[39m\u001B[38;5;241m.\u001B[39mmodel(x)\n\u001B[1;32m    289\u001B[0m out \u001B[38;5;241m=\u001B[39m out[:idx]\n",
      "File \u001B[0;32m~/opt/anaconda3/envs/counterfactuals/lib/python3.10/site-packages/torch/nn/modules/module.py:2153\u001B[0m, in \u001B[0;36mModule.load_state_dict\u001B[0;34m(self, state_dict, strict, assign)\u001B[0m\n\u001B[1;32m   2148\u001B[0m         error_msgs\u001B[38;5;241m.\u001B[39minsert(\n\u001B[1;32m   2149\u001B[0m             \u001B[38;5;241m0\u001B[39m, \u001B[38;5;124m'\u001B[39m\u001B[38;5;124mMissing key(s) in state_dict: \u001B[39m\u001B[38;5;132;01m{}\u001B[39;00m\u001B[38;5;124m. \u001B[39m\u001B[38;5;124m'\u001B[39m\u001B[38;5;241m.\u001B[39mformat(\n\u001B[1;32m   2150\u001B[0m                 \u001B[38;5;124m'\u001B[39m\u001B[38;5;124m, \u001B[39m\u001B[38;5;124m'\u001B[39m\u001B[38;5;241m.\u001B[39mjoin(\u001B[38;5;124mf\u001B[39m\u001B[38;5;124m'\u001B[39m\u001B[38;5;124m\"\u001B[39m\u001B[38;5;132;01m{\u001B[39;00mk\u001B[38;5;132;01m}\u001B[39;00m\u001B[38;5;124m\"\u001B[39m\u001B[38;5;124m'\u001B[39m \u001B[38;5;28;01mfor\u001B[39;00m k \u001B[38;5;129;01min\u001B[39;00m missing_keys)))\n\u001B[1;32m   2152\u001B[0m \u001B[38;5;28;01mif\u001B[39;00m \u001B[38;5;28mlen\u001B[39m(error_msgs) \u001B[38;5;241m>\u001B[39m \u001B[38;5;241m0\u001B[39m:\n\u001B[0;32m-> 2153\u001B[0m     \u001B[38;5;28;01mraise\u001B[39;00m \u001B[38;5;167;01mRuntimeError\u001B[39;00m(\u001B[38;5;124m'\u001B[39m\u001B[38;5;124mError(s) in loading state_dict for \u001B[39m\u001B[38;5;132;01m{}\u001B[39;00m\u001B[38;5;124m:\u001B[39m\u001B[38;5;130;01m\\n\u001B[39;00m\u001B[38;5;130;01m\\t\u001B[39;00m\u001B[38;5;132;01m{}\u001B[39;00m\u001B[38;5;124m'\u001B[39m\u001B[38;5;241m.\u001B[39mformat(\n\u001B[1;32m   2154\u001B[0m                        \u001B[38;5;28mself\u001B[39m\u001B[38;5;241m.\u001B[39m\u001B[38;5;18m__class__\u001B[39m\u001B[38;5;241m.\u001B[39m\u001B[38;5;18m__name__\u001B[39m, \u001B[38;5;124m\"\u001B[39m\u001B[38;5;130;01m\\n\u001B[39;00m\u001B[38;5;130;01m\\t\u001B[39;00m\u001B[38;5;124m\"\u001B[39m\u001B[38;5;241m.\u001B[39mjoin(error_msgs)))\n\u001B[1;32m   2155\u001B[0m \u001B[38;5;28;01mreturn\u001B[39;00m _IncompatibleKeys(missing_keys, unexpected_keys)\n",
      "\u001B[0;31mRuntimeError\u001B[0m: Error(s) in loading state_dict for MLP:\n\tsize mismatch for block.4.weight: copying a param with shape torch.Size([2, 200]) from checkpoint, the shape in current model is torch.Size([1, 200]).\n\tsize mismatch for block.4.bias: copying a param with shape torch.Size([2]) from checkpoint, the shape in current model is torch.Size([1])."
     ]
    }
   ],
   "source": [
    "from counterfactual_xai.methods.interpretation import latent_project_gauss, latent_project_cat\n",
    "\n",
    "tr_aleatoric_vec, tr_epistemic_vec, z_train, x_train, y_train = \\\n",
    "    latent_project_cat(bnn_cat, VAE, dset=trainset, batch_size=2048, cuda=cuda)\n",
    "tr_uncertainty_vec = tr_aleatoric_vec + tr_epistemic_vec\n",
    "\n",
    "te_aleatoric_vec, te_epistemic_vec, z_test, x_test, y_test = \\\n",
    "    latent_project_cat(bnn_cat, VAE, dset=valset, batch_size=2048, cuda=cuda)\n",
    "\n",
    "te_uncertainty_vec = te_aleatoric_vec + te_epistemic_vec\n",
    "\n",
    "uncertainty_idxs_sorted = np.flipud(np.argsort(te_uncertainty_vec))\n",
    "aleatoric_idxs_sorted = np.flipud(np.argsort(te_aleatoric_vec))\n",
    "epistemic_idxs_sorted = np.flipud(np.argsort(te_epistemic_vec))\n",
    "\n",
    "plt.figure(dpi=80)\n",
    "plt.hist(te_uncertainty_vec, density=True, alpha=0.5)\n",
    "plt.hist(tr_uncertainty_vec, density=True, alpha=0.5)\n",
    "plt.legend(['test', 'train'])\n",
    "plt.ylabel('Uncertainty')\n",
    "plt.show()"
   ],
   "metadata": {
    "collapsed": false,
    "ExecuteTime": {
     "end_time": "2024-06-10T13:31:00.284883Z",
     "start_time": "2024-06-10T13:30:48.955405Z"
    }
   },
   "execution_count": 8
  },
  {
   "cell_type": "markdown",
   "metadata": {},
   "source": [
    "### Overview uncertainty histogram per dataset dimension\n"
   ]
  },
  {
   "cell_type": "code",
   "execution_count": null,
   "metadata": {},
   "outputs": [],
   "source": [
    "dname = \"mimic\"\n",
    "# var_names = {\"mimic\": ['LSAT', 'UGPA', 'race', 'sex']}\n",
    "var_names_flat = {\n",
    "    \"mimic\": [\"age\", \"max_hours\", \"vent\", \"vaso\", \"adenosine\", \"dobutamine\", \"dopamine\",\n",
    "              \"epinephrine\", \"isuprel\",\n",
    "              \"milrinone\", \"norepinephrine\", \"phenylephrine\", \"vasopressin\", \"colloid_bolus\", \"crystalloid_bolus\",\n",
    "              \"nivdurations\", \"gender_F\",\n",
    "              \"gender_M\", \"ethnicity_AMERICAN INDIAN/ALASKA NATIVE\",\n",
    "              \"ethnicity_AMERICAN INDIAN/ALASKA NATIVE FEDERALLY RECOGNIZED TRIBE\",\n",
    "              \"ethnicity_ASIAN\", \"ethnicity_ASIAN - ASIAN INDIAN\", \"ethnicity_ASIAN - CAMBODIAN\",\n",
    "              \"ethnicity_ASIAN - CHINESE\",\n",
    "              \"ethnicity_ASIAN - FILIPINO\", \"ethnicity_ASIAN - JAPANESE\", \"ethnicity_ASIAN - KOREAN\",\n",
    "              \"ethnicity_ASIAN - OTHER\",\n",
    "              \"ethnicity_ASIAN - THAI\", \"ethnicity_ASIAN - VIETNAMESE\", \"ethnicity_BLACK/AFRICAN\",\n",
    "              \"ethnicity_BLACK/AFRICAN AMERICAN\",\n",
    "              \"ethnicity_BLACK/CAPE VERDEAN\", \"ethnicity_BLACK/HAITIAN\", \"ethnicity_CARIBBEAN ISLAND\",\n",
    "              \"ethnicity_HISPANIC OR LATINO\",\n",
    "              \"ethnicity_HISPANIC/LATINO - CENTRAL AMERICAN (OTHER)\", \"ethnicity_HISPANIC/LATINO - COLOMBIAN\",\n",
    "              \"ethnicity_HISPANIC/LATINO - CUBAN\",\n",
    "              \"ethnicity_HISPANIC/LATINO - DOMINICAN\", \"ethnicity_HISPANIC/LATINO - GUATEMALAN\",\n",
    "              \"ethnicity_HISPANIC/LATINO - HONDURAN\",\n",
    "              \"ethnicity_HISPANIC/LATINO - MEXICAN\", \"ethnicity_HISPANIC/LATINO - PUERTO RICAN\",\n",
    "              \"ethnicity_HISPANIC/LATINO - SALVADORAN\",\n",
    "              \"ethnicity_MIDDLE EASTERN\", \"ethnicity_MULTI RACE ETHNICITY\",\n",
    "              \"ethnicity_NATIVE HAWAIIAN OR OTHER PACIFIC ISLANDER\",\n",
    "              \"ethnicity_OTHER\", \"ethnicity_PATIENT DECLINED TO ANSWER\", \"ethnicity_PORTUGUESE\",\n",
    "              \"ethnicity_SOUTH AMERICAN\",\n",
    "              \"ethnicity_UNABLE TO OBTAIN\", \"ethnicity_UNKNOWN/NOT SPECIFIED\", \"ethnicity_WHITE\",\n",
    "              \"ethnicity_WHITE - BRAZILIAN\",\n",
    "              \"ethnicity_WHITE - EASTERN EUROPEAN\", \"ethnicity_WHITE - OTHER EUROPEAN\", \"ethnicity_WHITE - RUSSIAN\"]\n",
    "}"
   ]
  },
  {
   "cell_type": "code",
   "outputs": [],
   "source": [],
   "metadata": {
    "collapsed": false
   }
  },
  {
   "cell_type": "code",
   "execution_count": 21,
   "metadata": {},
   "outputs": [
    {
     "data": {
      "image/png": "[encoded data removed]",
      "text/plain": [
       "<Figure size 720x480 with 2 Axes>"
      ]
     },
     "metadata": {
      "needs_background": "light"
     },
     "output_type": "display_data"
    },
    {
     "data": {
      "image/png": "[encoded data removed]",
      "text/plain": [
       "<Figure size 720x480 with 2 Axes>"
      ]
     },
     "metadata": {
      "needs_background": "light"
     },
     "output_type": "display_data"
    }
   ],
   "source": [
    "\n",
    "var_N = 11\n",
    "\n",
    "fig, axes = plt.subplots(1, 2, dpi=120)\n",
    "# plt.figure(dpi=80)\n",
    "axes[0].hist(x_train[:, var_N], density=True, alpha=0.5)\n",
    "axes[0].hist(x_test[:, var_N], density=True, alpha=0.5)\n",
    "axes[0].legend(['train', 'test'])\n",
    "axes[0].set_title(var_names_flat[dname][var_N])\n",
    "\n",
    "bins = [-5, -4, -3, -2, -1.5, -1, -0.5, 0, 0.5, 1, 1.5, 2, 3, 4, 5]\n",
    "center_bins = ((np.array([0] + bins) + np.array(bins + [0])) / 2)[1:]\n",
    "center_bins[-1] = bins[-1]\n",
    "\n",
    "bin_idx = np.digitize(x_train[:, var_N], bins, right=False)\n",
    "bin_means = []\n",
    "bin_stds = []\n",
    "aleatoric_mean = []\n",
    "aleatoric_stds = []\n",
    "epistemic_mean = []\n",
    "epistemic_stds = []\n",
    "\n",
    "for n_bin, bin_start in enumerate(bins):\n",
    "    y_select = y_train[bin_idx == n_bin]\n",
    "    aleatoric_select = tr_aleatoric_vec[bin_idx == n_bin]\n",
    "    epistemic_select = tr_epistemic_vec[bin_idx == n_bin]\n",
    "    if len(y_select) == 0:\n",
    "        bin_means.append(np.nan)\n",
    "        bin_stds.append(np.nan)\n",
    "        aleatoric_mean.append(np.nan)\n",
    "        aleatoric_stds.append(np.nan)\n",
    "        epistemic_mean.append(np.nan)\n",
    "        epistemic_stds.append(np.nan)\n",
    "    else:\n",
    "        bin_means.append(y_select.mean())\n",
    "        bin_stds.append(y_select.std())\n",
    "        aleatoric_mean.append(aleatoric_select.mean())\n",
    "        aleatoric_stds.append(aleatoric_select.std())\n",
    "        epistemic_mean.append(epistemic_select.mean())\n",
    "        epistemic_stds.append(epistemic_select.std())\n",
    "\n",
    "# plt.figure(dpi=80)\n",
    "axes[1].errorbar(center_bins, bin_means, yerr=bin_stds, fmt='o')\n",
    "axes[1].set_xlabel(var_names_flat[dname][var_N])\n",
    "axes[1].set_ylabel('target var')\n",
    "\n",
    "plt.tight_layout()\n",
    "\n",
    "fig, axes = plt.subplots(1, 2, dpi=120)\n",
    "# plt.figure(dpi=80)\n",
    "axes[0].errorbar(center_bins, aleatoric_mean, yerr=aleatoric_stds, fmt='o')\n",
    "axes[0].set_xlabel(var_names_flat[dname][var_N])\n",
    "axes[0].set_ylabel('Aleatoric')\n",
    "# plt.show()\n",
    "\n",
    "# plt.figure(dpi=80)\n",
    "axes[1].errorbar(center_bins, epistemic_mean, yerr=epistemic_stds, fmt='o')\n",
    "axes[1].set_xlabel(var_names_flat[dname][var_N])\n",
    "axes[1].set_ylabel('Epistemic')\n",
    "\n",
    "plt.tight_layout()\n",
    "# plt.show()\n",
    "\n"
   ]
  },
  {
   "cell_type": "markdown",
   "source": [
    "# CLUE"
   ],
   "metadata": {
    "collapsed": false
   }
  },
  {
   "cell_type": "code",
   "execution_count": 23,
   "metadata": {},
   "outputs": [],
   "source": [
    "use_index = uncertainty_idxs_sorted\n",
    "\n",
    "Nbatch = 512\n",
    "z_init_batch = z_test[use_index[:Nbatch]]\n",
    "x_init_batch = x_test[use_index[:Nbatch]]\n",
    "y_init_batch = y_test[use_index[:Nbatch]]\n",
    "\n",
    "\n"
   ]
  },
  {
   "cell_type": "markdown",
   "metadata": {},
   "source": [
    "## Run base CLUE\n"
   ]
  },
  {
   "cell_type": "code",
   "execution_count": 17,
   "metadata": {
    "ExecuteTime": {
     "end_time": "2024-06-10T13:26:05.206892Z",
     "start_time": "2024-06-10T13:26:05.200419Z"
    }
   },
   "outputs": [
    {
     "name": "stdout",
     "output_type": "stream",
     "text": [
      "Bottom\n"
     ]
    },
    {
     "data": {
      "text/plain": "\"\\nCLUE_explainer = CLUE(VAE, BNN, x_init_batch, uncertainty_weight=uncertainty_weight, aleatoric_weight=aleatoric_weight, epistemic_weight=epistemic_weight,\\n                      prior_weight=0, distance_weight=distance_weight,\\n                 latent_L2_weight=0, prediction_similarity_weight=prediction_similarity_weight,\\n                 lr=1e-2, desired_preds=None, cond_mask=None, distance_metric=dist,\\n                 z_init=z_init_batch, norm_MNIST=False,\\n                 flatten_BNN=False, regression=regression_bools[names.index(dname)], cuda=True)\\n\\ntorch.autograd.set_detect_anomaly(False)\\n\\nz_vec, x_vec, uncertainty_vec, epistemic_vec, aleatoric_vec, cost_vec, dist_vec = CLUE_explainer.optimise(\\n                                                        min_steps=3, max_steps=50,\\n                                                        n_early_stop=3)\\n\\nfig, axes = plt.subplots(1, 3, dpi=130)\\naxes[0].plot(cost_vec.mean(axis=1))\\naxes[0].set_title('mean Cost')\\naxes[0].set_xlabel('iterations')\\n\\naxes[1].plot(uncertainty_vec.mean(axis=1))\\naxes[1].set_title('mean Total Entropy')\\naxes[1].set_xlabel('iterations')\\n\\naxes[2].plot(dist_vec.mean(axis=1))\\naxes[2].set_title('mean Ln Cost')\\naxes[2].set_xlabel('iterations')\\n\\nplt.subplots_adjust(left=None, bottom=None, right=None, top=None, wspace=0.5, hspace=None)\\n\""
     },
     "execution_count": 17,
     "metadata": {},
     "output_type": "execute_result"
    }
   ],
   "source": [
    "import torch\n",
    "from counterfactual_xai.methods.clue import decompose_std_gauss, decompose_entropy_cat, CLUE\n",
    "from counterfactual_xai.methods.utils import LnDistance\n",
    "\n",
    "dist = LnDistance(n=1, dim=(1))\n",
    "x_dim = x_init_batch.reshape(x_init_batch.shape[0], -1).shape[1]\n",
    "\n",
    "aleatoric_weight = 0\n",
    "epistemic_weight = 0\n",
    "uncertainty_weight = 1\n",
    "\n",
    "distance_weight = 2 / x_dim\n",
    "prediction_similarity_weight = 0\n",
    "\n",
    "print(\"Bottom\")\n",
    "o_preds = bnn_cat.sample_predict(x_init_batch, Nsamples=0, grad=False)\n",
    "o_uncert, o_aleatoric, o_epistemic = decompose_entropy_cat(o_preds)\n",
    "desired_preds = o_preds.mean(dim=0).cpu().numpy()\n",
    "\n",
    "CLUE_explainer = CLUE(VAE, bnn_cat, x_init_batch, uncertainty_weight=uncertainty_weight,\n",
    "                      aleatoric_weight=aleatoric_weight, epistemic_weight=epistemic_weight,\n",
    "                      prior_weight=0, distance_weight=distance_weight,\n",
    "                      latent_L2_weight=0, prediction_similarity_weight=prediction_similarity_weight,\n",
    "                      lr=1e-2, desired_preds=None, cond_mask=None, distance_metric=dist,\n",
    "                      z_init=z_init_batch, norm_MNIST=False,\n",
    "                      flatten_BNN=False, regression=regression_bools[names.index(dname)], cuda=True)\n",
    "\n",
    "torch.autograd.set_detect_anomaly(False)\n",
    "\n",
    "z_vec, x_vec, uncertainty_vec, epistemic_vec, aleatoric_vec, cost_vec, dist_vec = CLUE_explainer.optimise(\n",
    "    min_steps=3, max_steps=50,\n",
    "    n_early_stop=3)\n",
    "\n",
    "fig, axes = plt.subplots(1, 3, dpi=130)\n",
    "axes[0].plot(cost_vec.mean(axis=1))\n",
    "axes[0].set_title('mean Cost')\n",
    "axes[0].set_xlabel('iterations')\n",
    "\n",
    "axes[1].plot(uncertainty_vec.mean(axis=1))\n",
    "axes[1].set_title('mean Total Entropy')\n",
    "axes[1].set_xlabel('iterations')\n",
    "\n",
    "axes[2].plot(dist_vec.mean(axis=1))\n",
    "axes[2].set_title('mean Ln Cost')\n",
    "axes[2].set_xlabel('iterations')\n",
    "\n",
    "plt.subplots_adjust(left=None, bottom=None, right=None, top=None, wspace=0.5, hspace=None)\n"
   ]
  },
  {
   "cell_type": "markdown",
   "metadata": {},
   "source": [
    "## Plot histograms\n"
   ]
  },
  {
   "cell_type": "code",
   "execution_count": 18,
   "metadata": {
    "ExecuteTime": {
     "end_time": "2024-06-10T13:27:43.579374Z",
     "start_time": "2024-06-10T13:27:43.574479Z"
    }
   },
   "outputs": [
    {
     "name": "stdout",
     "output_type": "stream",
     "text": [
      "Bottom\n"
     ]
    },
    {
     "data": {
      "text/plain": "\"fig, axes = plt.subplots(1, 3, dpi=180)\\n    \\n\\naxes[0].hist(post_uncert.cpu().numpy(), density=True, alpha=0.5, label='CLUE')\\naxes[0].hist(te_uncertainty_vec[use_index[:Nbatch]], density=True, alpha=0.5, label='original')\\naxes[0].set_title('All uncertainty')\\naxes[0].legend()\\n\\naxes[1].hist(post_aleatoric.cpu().numpy(), density=True, alpha=0.5, label='CLUE')\\naxes[1].hist(te_aleatoric_vec[use_index[:Nbatch]], density=True, alpha=0.5, label='original')\\naxes[1].set_title('Aleatoric')\\naxes[1].legend()\\n\\naxes[2].hist(post_epistemic.cpu().numpy(), density=True, alpha=0.5, label='CLUE')\\naxes[2].hist(te_epistemic_vec[use_index[:Nbatch]], density=True, alpha=0.5, label='original')\\naxes[2].set_title('Epistemic')\\naxes[2].legend()\\n\\nplt.tight_layout()\""
     },
     "execution_count": 18,
     "metadata": {},
     "output_type": "execute_result"
    }
   ],
   "source": [
    "preds = bnn_cat.sample_predict(x_vec[-1], Nsamples=0, grad=False)\n",
    "post_uncert, post_aleatoric, post_epistemic = decompose_entropy_cat(preds)\n",
    "post_preds = preds.mean(dim=0).cpu().numpy()[:, 1]\n",
    "\n",
    "fig, axes = plt.subplots(1, 3, dpi=180)\n",
    "\n",
    "axes[0].hist(post_uncert.cpu().numpy(), density=True, alpha=0.5, label='CLUE')\n",
    "axes[0].hist(te_uncertainty_vec[use_index[:Nbatch]], density=True, alpha=0.5, label='original')\n",
    "axes[0].set_title('All uncertainty')\n",
    "axes[0].legend()\n",
    "\n",
    "axes[1].hist(post_aleatoric.cpu().numpy(), density=True, alpha=0.5, label='CLUE')\n",
    "axes[1].hist(te_aleatoric_vec[use_index[:Nbatch]], density=True, alpha=0.5, label='original')\n",
    "axes[1].set_title('Aleatoric')\n",
    "axes[1].legend()\n",
    "\n",
    "axes[2].hist(post_epistemic.cpu().numpy(), density=True, alpha=0.5, label='CLUE')\n",
    "axes[2].hist(te_epistemic_vec[use_index[:Nbatch]], density=True, alpha=0.5, label='original')\n",
    "axes[2].set_title('Epistemic')\n",
    "axes[2].legend()\n",
    "\n",
    "plt.tight_layout()"
   ]
  },
  {
   "cell_type": "code",
   "execution_count": 45,
   "metadata": {},
   "outputs": [
    {
     "name": "stdout",
     "output_type": "stream",
     "text": [
      "('o pred; ', 0.8571318, 'pred; ', 0.93803585)\n"
     ]
    },
    {
     "data": {
      "text/plain": [
       "<matplotlib.axes._subplots.AxesSubplot at 0x7fb11a124b90>"
      ]
     },
     "execution_count": 45,
     "metadata": {},
     "output_type": "execute_result"
    },
    {
     "data": {
      "image/png": "[encoded data removed]",
      "text/plain": [
       "<Figure size 480x320 with 1 Axes>"
      ]
     },
     "metadata": {
      "needs_background": "light"
     },
     "output_type": "display_data"
    },
    {
     "data": {
      "image/png": "[encoded data removed]",
      "text/plain": [
       "<Figure size 480x320 with 1 Axes>"
      ]
     },
     "metadata": {
      "needs_background": "light"
     },
     "output_type": "display_data"
    }
   ],
   "source": [
    "from counterfactual_xai.methods.interpretation import gen_bar_plot\n",
    "\n",
    "Nsample = 1\n",
    "\n",
    "print('o pred; ', desired_preds[Nsample, 1], 'pred; ', post_preds[Nsample])\n",
    "\n",
    "gen_bar_plot(var_names_flat[dname], x_init_batch[Nsample], title='og ' + str(te_uncertainty_vec[use_index[Nsample]]),\n",
    "             xlabel=None, ylabel=None, probs=False, hor=True, save_file=None,\n",
    "             max_fields=40, fs=9, verbose=False, sort=False, dpi=80, neg_color=True, ax=None, c=None)\n",
    "\n",
    "# gen_bar_plot(var_names_flat[dname], x_vec[0,Nsample,:], title='vae ' + str(uncertainty_vec[0,Nsample]), xlabel=None, ylabel=None, probs=False, hor=True, save_file=None,\n",
    "#                  max_fields=40, fs=9, verbose=False, sort=False, dpi=80, neg_color=True, ax=None, c=None)\n",
    "\n",
    "gen_bar_plot(var_names_flat[dname], x_vec[-1, Nsample, :], title='clue ' + str(post_uncert.cpu().numpy()[Nsample]),\n",
    "             xlabel=None, ylabel=None, probs=False, hor=True, save_file=None,\n",
    "             max_fields=40, fs=9, verbose=False, sort=False, dpi=80, neg_color=True, ax=None, c=None)\n",
    "\n",
    "\n"
   ]
  },
  {
   "cell_type": "code",
   "execution_count": null,
   "metadata": {},
   "outputs": [],
   "source": []
  }
 ],
 "metadata": {
  "kernelspec": {
   "name": "python3",
   "language": "python",
   "display_name": "Python 3 (ipykernel)"
  },
  "language_info": {
   "codemirror_mode": {
    "name": "ipython",
    "version": 2
   },
   "file_extension": ".py",
   "mimetype": "text/x-python",
   "name": "python",
   "nbconvert_exporter": "python",
   "pygments_lexer": "ipython2",
   "version": "2.7.17"
  }
 },
 "nbformat": 4,
 "nbformat_minor": 2
}
